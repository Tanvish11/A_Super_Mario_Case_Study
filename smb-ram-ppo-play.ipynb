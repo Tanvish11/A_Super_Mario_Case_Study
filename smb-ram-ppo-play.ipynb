{
 "cells": [
  {
   "cell_type": "code",
   "execution_count": null,
   "id": "c75b7744",
   "metadata": {},
   "outputs": [],
   "source": [
    "# import dependencies\n",
    "import gym \n",
    "from stable_baselines3 import PPO\n",
    "from stable_baselines3.common.vec_env import DummyVecEnv, VecEnv\n",
    "from stable_baselines3.common.evaluation import evaluate_policy\n",
    "\n",
    "import os\n",
    "\n",
    "from gym_utils import SMBRamWrapper, load_smb_env, SMB"
   ]
  },
  {
   "cell_type": "code",
   "execution_count": null,
   "id": "576354a4",
   "metadata": {},
   "outputs": [],
   "source": [
    "# Choose which trained model to load\n",
    "MODEL_DIR = \"./models\"\n",
    "\n",
    "# Example 1  observations stacked from 4 frames\n",
    "crop_window = [0, 16, 0, 13]\n",
    "stack_size = 4\n",
    "frame_gap = 4\n",
    "MODEL_NAME = \"pre-trained-1\"\n",
    "\n",
    "\n",
    "\n",
    "\n",
    "# Build wrapped Mario environment\n",
    "env_processed = init_mario_env(\"SuperMarioBros-1-1-v0\",\n",
    "                               crop_window,\n",
    "                               stack_size,\n",
    "                               frame_gap)\n",
    "\n",
    "# Load pre-trained PPO agent\n",
    "model = PPO.load(os.path.join(MODEL_DIR, MODEL_NAME), env=env_processed)\n",
    "\n",
    "# Combine model with environment for evaluation/playback\n",
    "agent = MarioAgent(env_processed, model)\n",
    "\n",
    "# Run a single evaluation episode with rendering\n",
    "agent.run(episodes=1, deterministic=True, show=True, return_stats=True)\n"
   ]
  }
 ],
 "metadata": {
  "kernelspec": {
   "display_name": "Python 3 (ipykernel)",
   "language": "python",
   "name": "python3"
  },
  "language_info": {
   "codemirror_mode": {
    "name": "ipython",
    "version": 3
   },
   "file_extension": ".py",
   "mimetype": "text/x-python",
   "name": "python",
   "nbconvert_exporter": "python",
   "pygments_lexer": "ipython3",
   "version": "3.9.13"
  }
 },
 "nbformat": 4,
 "nbformat_minor": 5
}
